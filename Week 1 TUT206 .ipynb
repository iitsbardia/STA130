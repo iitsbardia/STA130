{
 "cells": [
  {
   "cell_type": "code",
   "execution_count": 1,
   "id": "40efc604",
   "metadata": {},
   "outputs": [
    {
     "name": "stdout",
     "output_type": "stream",
     "text": [
      "   fixed acidity  volatile acidity  citric acid  residual sugar  chlorides  \\\n",
      "0            7.4              0.70         0.00             1.9      0.076   \n",
      "1            7.8              0.88         0.00             2.6      0.098   \n",
      "2            7.8              0.76         0.04             2.3      0.092   \n",
      "3           11.2              0.28         0.56             1.9      0.075   \n",
      "4            7.4              0.70         0.00             1.9      0.076   \n",
      "\n",
      "   free sulfur dioxide  total sulfur dioxide  density    pH  sulphates  \\\n",
      "0                 11.0                  34.0   0.9978  3.51       0.56   \n",
      "1                 25.0                  67.0   0.9968  3.20       0.68   \n",
      "2                 15.0                  54.0   0.9970  3.26       0.65   \n",
      "3                 17.0                  60.0   0.9980  3.16       0.58   \n",
      "4                 11.0                  34.0   0.9978  3.51       0.56   \n",
      "\n",
      "   alcohol  quality  \n",
      "0      9.4        5  \n",
      "1      9.8        5  \n",
      "2      9.8        5  \n",
      "3      9.8        6  \n",
      "4      9.4        5  \n",
      "\n",
      "Missing values in each column:\n",
      "fixed acidity           0\n",
      "volatile acidity        0\n",
      "citric acid             0\n",
      "residual sugar          0\n",
      "chlorides               0\n",
      "free sulfur dioxide     0\n",
      "total sulfur dioxide    0\n",
      "density                 0\n",
      "pH                      0\n",
      "sulphates               0\n",
      "alcohol                 0\n",
      "quality                 0\n",
      "dtype: int64\n"
     ]
    }
   ],
   "source": [
    "import pandas as pd\n",
    "\n",
    "# Load the dataset from the provided URL\n",
    "url = 'https://archive.ics.uci.edu/ml/machine-learning-databases/wine-quality/winequality-red.csv'\n",
    "\n",
    "# Since the dataset uses semicolons as separators, we specify the delimiter\n",
    "wine_data = pd.read_csv(url, delimiter=';')\n",
    "\n",
    "# Print the first few rows of the dataset to verify\n",
    "print(wine_data.head())\n",
    "\n",
    "# Check for missing values in the dataset\n",
    "missing_values = wine_data.isnull().sum()\n",
    "\n",
    "# Print out the missing values for each column\n",
    "print(\"\\nMissing values in each column:\")\n",
    "print(missing_values)\n"
   ]
  },
  {
   "cell_type": "code",
   "execution_count": 2,
   "id": "cc443d40",
   "metadata": {},
   "outputs": [
    {
     "name": "stdout",
     "output_type": "stream",
     "text": [
      "   PassengerId  Survived  Pclass  \\\n",
      "0            1         0       3   \n",
      "1            2         1       1   \n",
      "2            3         1       3   \n",
      "3            4         1       1   \n",
      "4            5         0       3   \n",
      "\n",
      "                                                Name     Sex   Age  SibSp  \\\n",
      "0                            Braund, Mr. Owen Harris    male  22.0      1   \n",
      "1  Cumings, Mrs. John Bradley (Florence Briggs Th...  female  38.0      1   \n",
      "2                             Heikkinen, Miss. Laina  female  26.0      0   \n",
      "3       Futrelle, Mrs. Jacques Heath (Lily May Peel)  female  35.0      1   \n",
      "4                           Allen, Mr. William Henry    male  35.0      0   \n",
      "\n",
      "   Parch            Ticket     Fare Cabin Embarked  \n",
      "0      0         A/5 21171   7.2500   NaN        S  \n",
      "1      0          PC 17599  71.2833   C85        C  \n",
      "2      0  STON/O2. 3101282   7.9250   NaN        S  \n",
      "3      0            113803  53.1000  C123        S  \n",
      "4      0            373450   8.0500   NaN        S  \n",
      "\n",
      "Missing values in each column:\n",
      "PassengerId      0\n",
      "Survived         0\n",
      "Pclass           0\n",
      "Name             0\n",
      "Sex              0\n",
      "Age            177\n",
      "SibSp            0\n",
      "Parch            0\n",
      "Ticket           0\n",
      "Fare             0\n",
      "Cabin          687\n",
      "Embarked         2\n",
      "dtype: int64\n"
     ]
    }
   ],
   "source": [
    "import pandas as pd\n",
    "\n",
    "# Load the Titanic dataset\n",
    "url = 'https://raw.githubusercontent.com/datasciencedojo/datasets/master/titanic.csv'\n",
    "titanic_data = pd.read_csv(url)\n",
    "\n",
    "# Print the first few rows to preview the data\n",
    "print(titanic_data.head())\n",
    "\n",
    "# Check for missing values\n",
    "missing_values = titanic_data.isnull().sum()\n",
    "\n",
    "# Print out the missing values for each column\n",
    "print(\"\\nMissing values in each column:\")\n",
    "print(missing_values)\n"
   ]
  },
  {
   "cell_type": "markdown",
   "id": "8572e4fa",
   "metadata": {},
   "source": [
    "\n",
    "# Summary of Interaction\n",
    "\n",
    "[chat history](https://chatgpt.com/share/6793898f-3e24-40ab-bb66-d701fa1d20b4)\n",
    "\n",
    "In this interaction, the goal was to find a dataset that met the following criteria: (a) amusing, funny, or otherwise interesting, (b) containing missing values, and (c) available online through a URL link to a CSV file.\n",
    "\n",
    "Initially, a dataset for The Office TV show was suggested but didn’t meet the requirements due to a broken link. Next, a World Happiness Report dataset was proposed, which also had link issues. Finally, the Wine Quality dataset was provided. Although the dataset was valid and functional, it did not contain any missing values.\n",
    "\n",
    "To fulfill the requirement for a dataset with missing values, the Titanic dataset was provided. This dataset is widely used for analysis and contains several columns with missing data. A Python script using pandas was written to load the dataset, display it, and print out the missing values for each column.\n",
    "\n",
    "Final Working Version of the Code\n",
    "Here is the final working version of the code using the Titanic dataset that contains missing values:"
   ]
  }
 ],
 "metadata": {
  "kernelspec": {
   "display_name": "Python 3 (ipykernel)",
   "language": "python",
   "name": "python3"
  },
  "language_info": {
   "codemirror_mode": {
    "name": "ipython",
    "version": 3
   },
   "file_extension": ".py",
   "mimetype": "text/x-python",
   "name": "python",
   "nbconvert_exporter": "python",
   "pygments_lexer": "ipython3",
   "version": "3.11.6"
  }
 },
 "nbformat": 4,
 "nbformat_minor": 5
}
